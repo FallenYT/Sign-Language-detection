{
 "cells": [
  {
   "cell_type": "code",
   "execution_count": 1,
   "metadata": {},
   "outputs": [
    {
     "data": {
      "text/html": [
       "<div>\n",
       "<style scoped>\n",
       "    .dataframe tbody tr th:only-of-type {\n",
       "        vertical-align: middle;\n",
       "    }\n",
       "\n",
       "    .dataframe tbody tr th {\n",
       "        vertical-align: top;\n",
       "    }\n",
       "\n",
       "    .dataframe thead th {\n",
       "        text-align: right;\n",
       "    }\n",
       "</style>\n",
       "<table border=\"1\" class=\"dataframe\">\n",
       "  <thead>\n",
       "    <tr style=\"text-align: right;\">\n",
       "      <th></th>\n",
       "      <th>dist_20_0</th>\n",
       "      <th>dist_16_0</th>\n",
       "      <th>dist_12_0</th>\n",
       "      <th>dist_8_0</th>\n",
       "      <th>dist_4_0</th>\n",
       "      <th>dist_20_16</th>\n",
       "      <th>dist_16_12</th>\n",
       "      <th>dist_12_8</th>\n",
       "      <th>dist_8_4</th>\n",
       "      <th>label</th>\n",
       "    </tr>\n",
       "  </thead>\n",
       "  <tbody>\n",
       "    <tr>\n",
       "      <th>0</th>\n",
       "      <td>49.024784</td>\n",
       "      <td>31.035207</td>\n",
       "      <td>49.443554</td>\n",
       "      <td>110.101010</td>\n",
       "      <td>129.158331</td>\n",
       "      <td>26.182262</td>\n",
       "      <td>26.409017</td>\n",
       "      <td>61.235759</td>\n",
       "      <td>19.586999</td>\n",
       "      <td>0</td>\n",
       "    </tr>\n",
       "    <tr>\n",
       "      <th>1</th>\n",
       "      <td>48.290193</td>\n",
       "      <td>35.370848</td>\n",
       "      <td>49.501759</td>\n",
       "      <td>99.344606</td>\n",
       "      <td>136.790507</td>\n",
       "      <td>27.421204</td>\n",
       "      <td>25.415429</td>\n",
       "      <td>50.800759</td>\n",
       "      <td>37.518808</td>\n",
       "      <td>0</td>\n",
       "    </tr>\n",
       "    <tr>\n",
       "      <th>2</th>\n",
       "      <td>50.664792</td>\n",
       "      <td>42.412037</td>\n",
       "      <td>56.252180</td>\n",
       "      <td>121.066225</td>\n",
       "      <td>136.802089</td>\n",
       "      <td>27.056595</td>\n",
       "      <td>21.351022</td>\n",
       "      <td>66.157718</td>\n",
       "      <td>18.688935</td>\n",
       "      <td>0</td>\n",
       "    </tr>\n",
       "    <tr>\n",
       "      <th>3</th>\n",
       "      <td>62.128068</td>\n",
       "      <td>51.626757</td>\n",
       "      <td>69.487509</td>\n",
       "      <td>110.456872</td>\n",
       "      <td>166.666018</td>\n",
       "      <td>21.671073</td>\n",
       "      <td>22.792934</td>\n",
       "      <td>42.155715</td>\n",
       "      <td>56.255131</td>\n",
       "      <td>0</td>\n",
       "    </tr>\n",
       "    <tr>\n",
       "      <th>4</th>\n",
       "      <td>55.756668</td>\n",
       "      <td>40.384440</td>\n",
       "      <td>49.296863</td>\n",
       "      <td>103.819132</td>\n",
       "      <td>156.374861</td>\n",
       "      <td>24.334537</td>\n",
       "      <td>20.205176</td>\n",
       "      <td>55.207995</td>\n",
       "      <td>52.652940</td>\n",
       "      <td>0</td>\n",
       "    </tr>\n",
       "    <tr>\n",
       "      <th>...</th>\n",
       "      <td>...</td>\n",
       "      <td>...</td>\n",
       "      <td>...</td>\n",
       "      <td>...</td>\n",
       "      <td>...</td>\n",
       "      <td>...</td>\n",
       "      <td>...</td>\n",
       "      <td>...</td>\n",
       "      <td>...</td>\n",
       "      <td>...</td>\n",
       "    </tr>\n",
       "    <tr>\n",
       "      <th>4394</th>\n",
       "      <td>179.181235</td>\n",
       "      <td>42.765284</td>\n",
       "      <td>52.525154</td>\n",
       "      <td>79.894573</td>\n",
       "      <td>157.572829</td>\n",
       "      <td>137.072747</td>\n",
       "      <td>22.761293</td>\n",
       "      <td>29.096736</td>\n",
       "      <td>91.539737</td>\n",
       "      <td>23</td>\n",
       "    </tr>\n",
       "    <tr>\n",
       "      <th>4395</th>\n",
       "      <td>161.995430</td>\n",
       "      <td>40.754767</td>\n",
       "      <td>46.570676</td>\n",
       "      <td>70.616096</td>\n",
       "      <td>139.248209</td>\n",
       "      <td>125.470419</td>\n",
       "      <td>14.738152</td>\n",
       "      <td>26.990024</td>\n",
       "      <td>76.703777</td>\n",
       "      <td>23</td>\n",
       "    </tr>\n",
       "    <tr>\n",
       "      <th>4396</th>\n",
       "      <td>164.749568</td>\n",
       "      <td>48.148963</td>\n",
       "      <td>53.680982</td>\n",
       "      <td>77.502896</td>\n",
       "      <td>140.443460</td>\n",
       "      <td>118.276138</td>\n",
       "      <td>19.204475</td>\n",
       "      <td>26.704825</td>\n",
       "      <td>75.949258</td>\n",
       "      <td>23</td>\n",
       "    </tr>\n",
       "    <tr>\n",
       "      <th>4397</th>\n",
       "      <td>170.304454</td>\n",
       "      <td>46.646010</td>\n",
       "      <td>46.584863</td>\n",
       "      <td>78.367235</td>\n",
       "      <td>146.164721</td>\n",
       "      <td>126.811375</td>\n",
       "      <td>14.909768</td>\n",
       "      <td>32.810842</td>\n",
       "      <td>83.228421</td>\n",
       "      <td>23</td>\n",
       "    </tr>\n",
       "    <tr>\n",
       "      <th>4398</th>\n",
       "      <td>184.195006</td>\n",
       "      <td>55.190500</td>\n",
       "      <td>56.442869</td>\n",
       "      <td>86.329545</td>\n",
       "      <td>159.999038</td>\n",
       "      <td>131.814199</td>\n",
       "      <td>19.169359</td>\n",
       "      <td>30.874855</td>\n",
       "      <td>89.493794</td>\n",
       "      <td>23</td>\n",
       "    </tr>\n",
       "  </tbody>\n",
       "</table>\n",
       "<p>4399 rows × 10 columns</p>\n",
       "</div>"
      ],
      "text/plain": [
       "       dist_20_0  dist_16_0  dist_12_0    dist_8_0    dist_4_0  dist_20_16  \\\n",
       "0      49.024784  31.035207  49.443554  110.101010  129.158331   26.182262   \n",
       "1      48.290193  35.370848  49.501759   99.344606  136.790507   27.421204   \n",
       "2      50.664792  42.412037  56.252180  121.066225  136.802089   27.056595   \n",
       "3      62.128068  51.626757  69.487509  110.456872  166.666018   21.671073   \n",
       "4      55.756668  40.384440  49.296863  103.819132  156.374861   24.334537   \n",
       "...          ...        ...        ...         ...         ...         ...   \n",
       "4394  179.181235  42.765284  52.525154   79.894573  157.572829  137.072747   \n",
       "4395  161.995430  40.754767  46.570676   70.616096  139.248209  125.470419   \n",
       "4396  164.749568  48.148963  53.680982   77.502896  140.443460  118.276138   \n",
       "4397  170.304454  46.646010  46.584863   78.367235  146.164721  126.811375   \n",
       "4398  184.195006  55.190500  56.442869   86.329545  159.999038  131.814199   \n",
       "\n",
       "      dist_16_12  dist_12_8   dist_8_4  label  \n",
       "0      26.409017  61.235759  19.586999      0  \n",
       "1      25.415429  50.800759  37.518808      0  \n",
       "2      21.351022  66.157718  18.688935      0  \n",
       "3      22.792934  42.155715  56.255131      0  \n",
       "4      20.205176  55.207995  52.652940      0  \n",
       "...          ...        ...        ...    ...  \n",
       "4394   22.761293  29.096736  91.539737     23  \n",
       "4395   14.738152  26.990024  76.703777     23  \n",
       "4396   19.204475  26.704825  75.949258     23  \n",
       "4397   14.909768  32.810842  83.228421     23  \n",
       "4398   19.169359  30.874855  89.493794     23  \n",
       "\n",
       "[4399 rows x 10 columns]"
      ]
     },
     "execution_count": 1,
     "metadata": {},
     "output_type": "execute_result"
    }
   ],
   "source": [
    "import pandas as pd\n",
    "import numpy as np\n",
    "from sklearn.naive_bayes import GaussianNB\n",
    "from sklearn.model_selection import train_test_split\n",
    "import matplotlib.pyplot as plt\n",
    "import seaborn as sns\n",
    "\n",
    "data = pd.read_csv(r'data\\alphabet.csv')\n",
    "data"
   ]
  },
  {
   "cell_type": "code",
   "execution_count": 2,
   "metadata": {},
   "outputs": [
    {
     "name": "stdout",
     "output_type": "stream",
     "text": [
      "[ 0  1  2  3  4  5  6  7  8  9 10 11 12 13 14 15 16 17 18 19 20 21 22 23]\n"
     ]
    }
   ],
   "source": [
    "# Save class labels and number of classes\n",
    "labels = data[\"label\"].values\n",
    "n_classes = len(np.unique(labels))\n",
    "print(np.unique(labels))"
   ]
  },
  {
   "cell_type": "code",
   "execution_count": 3,
   "metadata": {},
   "outputs": [],
   "source": [
    "classes = {\n",
    "    0: 'A',\n",
    "    1: 'B',\n",
    "    2: 'C',\n",
    "    3: 'D',\n",
    "    4: 'E',\n",
    "    5: 'F',\n",
    "    6: 'G',\n",
    "    7: 'H',\n",
    "    8: 'I',\n",
    "    9: 'K',\n",
    "    10: 'L',\n",
    "    11: 'M',\n",
    "    12: 'N',\n",
    "    13: 'O',\n",
    "    14: 'P',\n",
    "    15: 'Q',\n",
    "    16: 'R',\n",
    "    17: 'S',\n",
    "    18: 'T',\n",
    "    19: 'U',\n",
    "    20: 'V',\n",
    "    21: 'W',\n",
    "    22: 'X',\n",
    "    23: 'Y'\n",
    "}\n",
    "signs = [v for k, v in classes.items()]"
   ]
  },
  {
   "cell_type": "code",
   "execution_count": 4,
   "metadata": {},
   "outputs": [
    {
     "data": {
      "text/plain": [
       "<AxesSubplot: ylabel='count'>"
      ]
     },
     "execution_count": 4,
     "metadata": {},
     "output_type": "execute_result"
    },
    {
     "data": {
      "image/png": "[encoded data removed]",
      "text/plain": [
       "<Figure size 1800x800 with 1 Axes>"
      ]
     },
     "metadata": {},
     "output_type": "display_data"
    }
   ],
   "source": [
    "# Plot distribution of \"labels\"\n",
    "plt.figure(figsize = (18,8))\n",
    "sns.countplot(x=labels)"
   ]
  },
  {
   "cell_type": "code",
   "execution_count": 5,
   "metadata": {},
   "outputs": [
    {
     "name": "stdout",
     "output_type": "stream",
     "text": [
      "X_train shape = (3299, 9)\n",
      "y_train shape = (3299,)\n",
      "X_test shape = (1100, 9)\n",
      "y_test shape = (1100,)\n"
     ]
    }
   ],
   "source": [
    "X = data.drop(['label'], axis=1).copy()\n",
    "y = data.pop('label').copy()\n",
    "X_train, X_test, y_train, y_test = train_test_split(X, y, test_size=0.25, random_state=9)\n",
    "\n",
    "print(f\"X_train shape = {X_train.shape}\")\n",
    "print(f\"y_train shape = {y_train.shape}\")\n",
    "print(f\"X_test shape = {X_test.shape}\")\n",
    "print(f\"y_test shape = {y_test.shape}\")"
   ]
  },
  {
   "cell_type": "code",
   "execution_count": 6,
   "metadata": {},
   "outputs": [
    {
     "data": {
      "text/html": [
       "<style>#sk-container-id-1 {color: black;background-color: white;}#sk-container-id-1 pre{padding: 0;}#sk-container-id-1 div.sk-toggleable {background-color: white;}#sk-container-id-1 label.sk-toggleable__label {cursor: pointer;display: block;width: 100%;margin-bottom: 0;padding: 0.3em;box-sizing: border-box;text-align: center;}#sk-container-id-1 label.sk-toggleable__label-arrow:before {content: \"▸\";float: left;margin-right: 0.25em;color: #696969;}#sk-container-id-1 label.sk-toggleable__label-arrow:hover:before {color: black;}#sk-container-id-1 div.sk-estimator:hover label.sk-toggleable__label-arrow:before {color: black;}#sk-container-id-1 div.sk-toggleable__content {max-height: 0;max-width: 0;overflow: hidden;text-align: left;background-color: #f0f8ff;}#sk-container-id-1 div.sk-toggleable__content pre {margin: 0.2em;color: black;border-radius: 0.25em;background-color: #f0f8ff;}#sk-container-id-1 input.sk-toggleable__control:checked~div.sk-toggleable__content {max-height: 200px;max-width: 100%;overflow: auto;}#sk-container-id-1 input.sk-toggleable__control:checked~label.sk-toggleable__label-arrow:before {content: \"▾\";}#sk-container-id-1 div.sk-estimator input.sk-toggleable__control:checked~label.sk-toggleable__label {background-color: #d4ebff;}#sk-container-id-1 div.sk-label input.sk-toggleable__control:checked~label.sk-toggleable__label {background-color: #d4ebff;}#sk-container-id-1 input.sk-hidden--visually {border: 0;clip: rect(1px 1px 1px 1px);clip: rect(1px, 1px, 1px, 1px);height: 1px;margin: -1px;overflow: hidden;padding: 0;position: absolute;width: 1px;}#sk-container-id-1 div.sk-estimator {font-family: monospace;background-color: #f0f8ff;border: 1px dotted black;border-radius: 0.25em;box-sizing: border-box;margin-bottom: 0.5em;}#sk-container-id-1 div.sk-estimator:hover {background-color: #d4ebff;}#sk-container-id-1 div.sk-parallel-item::after {content: \"\";width: 100%;border-bottom: 1px solid gray;flex-grow: 1;}#sk-container-id-1 div.sk-label:hover label.sk-toggleable__label {background-color: #d4ebff;}#sk-container-id-1 div.sk-serial::before {content: \"\";position: absolute;border-left: 1px solid gray;box-sizing: border-box;top: 0;bottom: 0;left: 50%;z-index: 0;}#sk-container-id-1 div.sk-serial {display: flex;flex-direction: column;align-items: center;background-color: white;padding-right: 0.2em;padding-left: 0.2em;position: relative;}#sk-container-id-1 div.sk-item {position: relative;z-index: 1;}#sk-container-id-1 div.sk-parallel {display: flex;align-items: stretch;justify-content: center;background-color: white;position: relative;}#sk-container-id-1 div.sk-item::before, #sk-container-id-1 div.sk-parallel-item::before {content: \"\";position: absolute;border-left: 1px solid gray;box-sizing: border-box;top: 0;bottom: 0;left: 50%;z-index: -1;}#sk-container-id-1 div.sk-parallel-item {display: flex;flex-direction: column;z-index: 1;position: relative;background-color: white;}#sk-container-id-1 div.sk-parallel-item:first-child::after {align-self: flex-end;width: 50%;}#sk-container-id-1 div.sk-parallel-item:last-child::after {align-self: flex-start;width: 50%;}#sk-container-id-1 div.sk-parallel-item:only-child::after {width: 0;}#sk-container-id-1 div.sk-dashed-wrapped {border: 1px dashed gray;margin: 0 0.4em 0.5em 0.4em;box-sizing: border-box;padding-bottom: 0.4em;background-color: white;}#sk-container-id-1 div.sk-label label {font-family: monospace;font-weight: bold;display: inline-block;line-height: 1.2em;}#sk-container-id-1 div.sk-label-container {text-align: center;}#sk-container-id-1 div.sk-container {/* jupyter's `normalize.less` sets `[hidden] { display: none; }` but bootstrap.min.css set `[hidden] { display: none !important; }` so we also need the `!important` here to be able to override the default hidden behavior on the sphinx rendered scikit-learn.org. See: https://github.com/scikit-learn/scikit-learn/issues/21755 */display: inline-block !important;position: relative;}#sk-container-id-1 div.sk-text-repr-fallback {display: none;}</style><div id=\"sk-container-id-1\" class=\"sk-top-container\"><div class=\"sk-text-repr-fallback\"><pre>GaussianNB()</pre><b>In a Jupyter environment, please rerun this cell to show the HTML representation or trust the notebook. <br />On GitHub, the HTML representation is unable to render, please try loading this page with nbviewer.org.</b></div><div class=\"sk-container\" hidden><div class=\"sk-item\"><div class=\"sk-estimator sk-toggleable\"><input class=\"sk-toggleable__control sk-hidden--visually\" id=\"sk-estimator-id-1\" type=\"checkbox\" checked><label for=\"sk-estimator-id-1\" class=\"sk-toggleable__label sk-toggleable__label-arrow\">GaussianNB</label><div class=\"sk-toggleable__content\"><pre>GaussianNB()</pre></div></div></div></div></div>"
      ],
      "text/plain": [
       "GaussianNB()"
      ]
     },
     "execution_count": 6,
     "metadata": {},
     "output_type": "execute_result"
    }
   ],
   "source": [
    "# train model using Naive Bayess\n",
    "clf = GaussianNB()\n",
    "clf.fit(X_train, y_train)"
   ]
  },
  {
   "cell_type": "code",
   "execution_count": 7,
   "metadata": {},
   "outputs": [
    {
     "name": "stdout",
     "output_type": "stream",
     "text": [
      "Score = 95.00%\n"
     ]
    }
   ],
   "source": [
    "score = clf.score(X_test, y_test)\n",
    "print(\"Score = {:.2f}%\".format(score * 100))"
   ]
  },
  {
   "cell_type": "code",
   "execution_count": 8,
   "metadata": {},
   "outputs": [
    {
     "data": {
      "text/plain": [
       "['models\\\\gesture_clf.pkl']"
      ]
     },
     "execution_count": 8,
     "metadata": {},
     "output_type": "execute_result"
    }
   ],
   "source": [
    "# Import pickle model to save the model to disk\n",
    "import joblib\n",
    "\n",
    "# save the full pipeline to disk\n",
    "joblib.dump(clf, 'models\\\\gesture_clf.pkl', compress=True)"
   ]
  },
  {
   "cell_type": "code",
   "execution_count": null,
   "metadata": {},
   "outputs": [],
   "source": []
  }
 ],
 "metadata": {
  "kernelspec": {
   "display_name": "Python 3",
   "language": "python",
   "name": "python3"
  },
  "language_info": {
   "codemirror_mode": {
    "name": "ipython",
    "version": 3
   },
   "file_extension": ".py",
   "mimetype": "text/x-python",
   "name": "python",
   "nbconvert_exporter": "python",
   "pygments_lexer": "ipython3",
   "version": "3.10.4"
  }
 },
 "nbformat": 4,
 "nbformat_minor": 2
}
